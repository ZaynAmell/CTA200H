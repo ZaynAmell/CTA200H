{
 "cells": [
  {
   "cell_type": "code",
   "execution_count": 14,
   "metadata": {},
   "outputs": [],
   "source": [
    "import pandas as pd"
   ]
  },
  {
   "cell_type": "code",
   "execution_count": 15,
   "metadata": {},
   "outputs": [],
   "source": [
    "astro=pd.DataFrame()\n",
    "astro[\"Name\"]=[\"Earth\",\"Moon\",\"Mercury\",\"Jupiter\",\"Io\",\"51 Pegasi b\",\"Tau Boötis b\"]"
   ]
  },
  {
   "cell_type": "code",
   "execution_count": 16,
   "metadata": {},
   "outputs": [
    {
     "data": {
      "text/html": [
       "<div>\n",
       "<style scoped>\n",
       "    .dataframe tbody tr th:only-of-type {\n",
       "        vertical-align: middle;\n",
       "    }\n",
       "\n",
       "    .dataframe tbody tr th {\n",
       "        vertical-align: top;\n",
       "    }\n",
       "\n",
       "    .dataframe thead th {\n",
       "        text-align: right;\n",
       "    }\n",
       "</style>\n",
       "<table border=\"1\" class=\"dataframe\">\n",
       "  <thead>\n",
       "    <tr style=\"text-align: right;\">\n",
       "      <th></th>\n",
       "      <th>Name</th>\n",
       "    </tr>\n",
       "  </thead>\n",
       "  <tbody>\n",
       "    <tr>\n",
       "      <th>0</th>\n",
       "      <td>Earth</td>\n",
       "    </tr>\n",
       "    <tr>\n",
       "      <th>1</th>\n",
       "      <td>Moon</td>\n",
       "    </tr>\n",
       "    <tr>\n",
       "      <th>2</th>\n",
       "      <td>Mercury</td>\n",
       "    </tr>\n",
       "    <tr>\n",
       "      <th>3</th>\n",
       "      <td>Jupiter</td>\n",
       "    </tr>\n",
       "    <tr>\n",
       "      <th>4</th>\n",
       "      <td>Io</td>\n",
       "    </tr>\n",
       "    <tr>\n",
       "      <th>5</th>\n",
       "      <td>51 Pegasi b</td>\n",
       "    </tr>\n",
       "    <tr>\n",
       "      <th>6</th>\n",
       "      <td>Tau Boötis b</td>\n",
       "    </tr>\n",
       "  </tbody>\n",
       "</table>\n",
       "</div>"
      ],
      "text/plain": [
       "           Name\n",
       "0         Earth\n",
       "1          Moon\n",
       "2       Mercury\n",
       "3       Jupiter\n",
       "4            Io\n",
       "5   51 Pegasi b\n",
       "6  Tau Boötis b"
      ]
     },
     "execution_count": 16,
     "metadata": {},
     "output_type": "execute_result"
    }
   ],
   "source": [
    "astro"
   ]
  },
  {
   "cell_type": "code",
   "execution_count": 17,
   "metadata": {},
   "outputs": [],
   "source": [
    "astro[\"r_obs(km)\"]=[6371.0, 1737.1, 4880.0, 69911.0, 1821.6, 135830.0, 11945.6]\n",
    "astro[\"P_obs(day)\"]=[1.0, 27.322, 58.646, 0.414, 1.769, 21.9, 3.31]\n",
    "astro[\"R_obs(km)\"]=[1.496e8, 3.844e5, 5.791e7, 7.786e11, 4.217e5, 7.880e6, 9.343e11]\n",
    "astro[\"M_center(Kg)\"]=[1.989e30, 5.972e24, 1.989e30, 1.989e30, 1.898e27, 2.208e30, 2.765e30]"
   ]
  },
  {
   "cell_type": "code",
   "execution_count": 18,
   "metadata": {},
   "outputs": [
    {
     "data": {
      "text/html": [
       "<div>\n",
       "<style scoped>\n",
       "    .dataframe tbody tr th:only-of-type {\n",
       "        vertical-align: middle;\n",
       "    }\n",
       "\n",
       "    .dataframe tbody tr th {\n",
       "        vertical-align: top;\n",
       "    }\n",
       "\n",
       "    .dataframe thead th {\n",
       "        text-align: right;\n",
       "    }\n",
       "</style>\n",
       "<table border=\"1\" class=\"dataframe\">\n",
       "  <thead>\n",
       "    <tr style=\"text-align: right;\">\n",
       "      <th></th>\n",
       "      <th>Name</th>\n",
       "      <th>r_obs(km)</th>\n",
       "      <th>P_obs(day)</th>\n",
       "      <th>R_obs(km)</th>\n",
       "      <th>M_center(Kg)</th>\n",
       "    </tr>\n",
       "  </thead>\n",
       "  <tbody>\n",
       "    <tr>\n",
       "      <th>0</th>\n",
       "      <td>Earth</td>\n",
       "      <td>6371.0</td>\n",
       "      <td>1.000</td>\n",
       "      <td>1.496000e+08</td>\n",
       "      <td>1.989000e+30</td>\n",
       "    </tr>\n",
       "    <tr>\n",
       "      <th>1</th>\n",
       "      <td>Moon</td>\n",
       "      <td>1737.1</td>\n",
       "      <td>27.322</td>\n",
       "      <td>3.844000e+05</td>\n",
       "      <td>5.972000e+24</td>\n",
       "    </tr>\n",
       "    <tr>\n",
       "      <th>2</th>\n",
       "      <td>Mercury</td>\n",
       "      <td>4880.0</td>\n",
       "      <td>58.646</td>\n",
       "      <td>5.791000e+07</td>\n",
       "      <td>1.989000e+30</td>\n",
       "    </tr>\n",
       "    <tr>\n",
       "      <th>3</th>\n",
       "      <td>Jupiter</td>\n",
       "      <td>69911.0</td>\n",
       "      <td>0.414</td>\n",
       "      <td>7.786000e+11</td>\n",
       "      <td>1.989000e+30</td>\n",
       "    </tr>\n",
       "    <tr>\n",
       "      <th>4</th>\n",
       "      <td>Io</td>\n",
       "      <td>1821.6</td>\n",
       "      <td>1.769</td>\n",
       "      <td>4.217000e+05</td>\n",
       "      <td>1.898000e+27</td>\n",
       "    </tr>\n",
       "    <tr>\n",
       "      <th>5</th>\n",
       "      <td>51 Pegasi b</td>\n",
       "      <td>135830.0</td>\n",
       "      <td>21.900</td>\n",
       "      <td>7.880000e+06</td>\n",
       "      <td>2.208000e+30</td>\n",
       "    </tr>\n",
       "    <tr>\n",
       "      <th>6</th>\n",
       "      <td>Tau Boötis b</td>\n",
       "      <td>11945.6</td>\n",
       "      <td>3.310</td>\n",
       "      <td>9.343000e+11</td>\n",
       "      <td>2.765000e+30</td>\n",
       "    </tr>\n",
       "  </tbody>\n",
       "</table>\n",
       "</div>"
      ],
      "text/plain": [
       "           Name  r_obs(km)  P_obs(day)     R_obs(km)  M_center(Kg)\n",
       "0         Earth     6371.0       1.000  1.496000e+08  1.989000e+30\n",
       "1          Moon     1737.1      27.322  3.844000e+05  5.972000e+24\n",
       "2       Mercury     4880.0      58.646  5.791000e+07  1.989000e+30\n",
       "3       Jupiter    69911.0       0.414  7.786000e+11  1.989000e+30\n",
       "4            Io     1821.6       1.769  4.217000e+05  1.898000e+27\n",
       "5   51 Pegasi b   135830.0      21.900  7.880000e+06  2.208000e+30\n",
       "6  Tau Boötis b    11945.6       3.310  9.343000e+11  2.765000e+30"
      ]
     },
     "execution_count": 18,
     "metadata": {},
     "output_type": "execute_result"
    }
   ],
   "source": [
    "astro"
   ]
  },
  {
   "cell_type": "code",
   "execution_count": 19,
   "metadata": {},
   "outputs": [],
   "source": [
    "astro.to_csv(\"astro.csv\")"
   ]
  },
  {
   "cell_type": "code",
   "execution_count": null,
   "metadata": {},
   "outputs": [],
   "source": []
  }
 ],
 "metadata": {
  "kernelspec": {
   "display_name": "Python 3",
   "language": "python",
   "name": "python3"
  },
  "language_info": {
   "codemirror_mode": {
    "name": "ipython",
    "version": 3
   },
   "file_extension": ".py",
   "mimetype": "text/x-python",
   "name": "python",
   "nbconvert_exporter": "python",
   "pygments_lexer": "ipython3",
   "version": "3.8.2"
  }
 },
 "nbformat": 4,
 "nbformat_minor": 4
}
