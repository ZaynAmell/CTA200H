{
 "cells": [
  {
   "cell_type": "code",
   "execution_count": null,
   "metadata": {},
   "outputs": [],
   "source": [
    "%matplotlib inline\n",
    "import pylab as plt\n",
    "from blimpy import Waterfall\n",
    "import numpy as np\n",
    "import pandas as pd"
   ]
  },
  {
   "cell_type": "markdown",
   "metadata": {},
   "source": [
    "Part 1"
   ]
  },
  {
   "cell_type": "code",
   "execution_count": null,
   "metadata": {},
   "outputs": [],
   "source": [
    "#Define a function to calculate to maximum drift rate\n",
    "def drift_rate(f_rest,r_obs,P_obs,R_obs,M_center):\n",
    "    \"\"\"f_rest is the rest frequency, in MHz\n",
    "        r_obs is the radius of the observed object, in km\n",
    "        P_obs is the rotational period of the observed object, in day\n",
    "        R_obs is the distance of the observed object to its central object, in km\n",
    "        M_center is the mass of the center onject to the observed object, in kg \n",
    "        the dv/dt term is negligible\"\"\"\n",
    "    first_term=(4*np.pi**2)*(6371.0e3)/(8.64e4)**2\n",
    "    second_term=(4*np.pi**2)*(r_obs*1e3)/(P_obs*24*60*60)**2\n",
    "    third_term=(6.67430e-11)*(1.989e30)/(1.496e11)**2\n",
    "    forth_term=(6.67430e-11)*(M_center)/(R_obs*1000)**2\n",
    "    f=(f_rest*1e6)/(3e8)*(first_term+second_term+third_term+forth_term)\n",
    "    return f"
   ]
  },
  {
   "cell_type": "code",
   "execution_count": null,
   "metadata": {},
   "outputs": [],
   "source": [
    "#Access the table for several objects with physical properties\n",
    "astro=pd.read_csv(\"astro.csv\")\n",
    "chara=astro.values.tolist()\n",
    "f_rest_1=856 # L-Band with Bandwith of 856MHz\n",
    "f_rest_2=544 # UFL-Band with Bandwith of 544MHz\n",
    "rate1=[]\n",
    "rate2=[]\n",
    "#Calculate the max drift rate\n",
    "for i in chara:\n",
    "    rate1.append(drift_rate(f_rest_1,i[1],i[2],i[3],i[4]))\n",
    "    rate2.append(drift_rate(f_rest_2,i[1],i[2],i[3],i[4]))\n",
    "astro[\"drift_rate_1\"]=rate1\n",
    "astro[\"drift_rate_2\"]=rate2\n",
    "astro"
   ]
  },
  {
   "cell_type": "code",
   "execution_count": null,
   "metadata": {},
   "outputs": [],
   "source": [
    "# Plot all the lines. Note: There are two plots, one for L-Band, one for UFL Band\n",
    "# The filled area is what we would be able to detect for 10Hz/s drift rate\n",
    "fig,ax=plt.subplots(ncols=2,dpi=150,figsize=(15,6))\n",
    "t=np.linspace(0,300,10)\n",
    "y=10*t\n",
    "line=[\"-\", \".\", \"--\", \"-.\"]\n",
    "for i in range(8):\n",
    "    ax[0].plot(t*astro[\"drift_rate_1\"][i],t,line[i-4],label=astro[\"Name\"][i])\n",
    "ax[0].legend()\n",
    "ax[0].invert_yaxis()\n",
    "ax[0].fill_between(y,300,y/10,color='bisque')\n",
    "ax[0].set_ylabel(\"time elapsed during observation (sec)\")\n",
    "ax[0].set_xlabel(\"frequency displacement (Hz)\")\n",
    "ax[0].set_title(\"L Band\")\n",
    "for i in range(8):\n",
    "    ax[1].plot(t*astro[\"drift_rate_2\"][i],t,line[i-4],label=astro[\"Name\"][i])\n",
    "ax[1].legend()\n",
    "ax[1].set_ylabel(\"time elapsed during observation (sec)\")\n",
    "ax[1].set_xlabel(\"frequency displacement (Hz)\")\n",
    "ax[1].fill_between(y,300,y/10,color='bisque')\n",
    "ax[1].invert_yaxis()\n",
    "ax[1].set_title(\"UFL Band\")\n",
    "plt.savefig(\"Part_1.pdf\")\n",
    "plt.show()"
   ]
  },
  {
   "cell_type": "markdown",
   "metadata": {},
   "source": [
    "Extension"
   ]
  },
  {
   "cell_type": "code",
   "execution_count": null,
   "metadata": {},
   "outputs": [],
   "source": [
    "on=Waterfall(\"20200917_guppi_59143_55142_000486_GPS-BIIR-11_0001-ics.rawspec.f1024t128.0000.fil\")"
   ]
  },
  {
   "cell_type": "code",
   "execution_count": null,
   "metadata": {},
   "outputs": [],
   "source": [
    "on.plot_spectrum()\n",
    "plt.savefig(\"on.pdf\")"
   ]
  },
  {
   "cell_type": "code",
   "execution_count": null,
   "metadata": {},
   "outputs": [],
   "source": [
    "plt.figure(dpi=150)\n",
    "on.plot_waterfall(f_start=1575.40,f_stop=1575.410)\n",
    "plt.savefig(\"on_waterfall.pdf\")"
   ]
  },
  {
   "cell_type": "markdown",
   "metadata": {},
   "source": [
    "Part 3"
   ]
  },
  {
   "cell_type": "code",
   "execution_count": null,
   "metadata": {},
   "outputs": [],
   "source": [
    "# Access the files\n",
    "obs=Waterfall(\"single_coarse_guppi_59046_80036_DIAG_VOYAGER-1_0011.rawspec.0000.h5\")\n",
    "\n",
    "plt.figure(figsize=(10,10))\n",
    "plt.subplot(2,1,1)\n",
    "obs.plot_waterfall(f_start=8419.5425,f_stop=8419.5430,cb=False)\n",
    "plt.subplot(2,1,2)\n",
    "obs.plot_spectrum(f_start=8419.5425,f_stop=8419.5430)\n",
    "plt.savefig(\"voyager.pdf\")\n",
    "plt.show()"
   ]
  }
 ],
 "metadata": {
  "kernelspec": {
   "display_name": "Python 3",
   "language": "python",
   "name": "python3"
  },
  "language_info": {
   "codemirror_mode": {
    "name": "ipython",
    "version": 3
   },
   "file_extension": ".py",
   "mimetype": "text/x-python",
   "name": "python",
   "nbconvert_exporter": "python",
   "pygments_lexer": "ipython3",
   "version": "3.8.2"
  }
 },
 "nbformat": 4,
 "nbformat_minor": 4
}
